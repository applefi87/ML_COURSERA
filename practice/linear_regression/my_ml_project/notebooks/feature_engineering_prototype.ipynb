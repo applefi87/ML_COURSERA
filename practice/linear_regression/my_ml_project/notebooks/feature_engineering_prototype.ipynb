{
 "cells": [
  {
   "cell_type": "code",
   "execution_count": 4,
   "metadata": {},
   "outputs": [
    {
     "name": "stdout",
     "output_type": "stream",
     "text": [
      "c:\\Users\\Lenovo\\.conda\\envs\\tf3\\ML_COURSERA\\practice\\linear regression\\src\\visualization\n"
     ]
    },
    {
     "ename": "ModuleNotFoundError",
     "evalue": "No module named 'data_plotter'",
     "output_type": "error",
     "traceback": [
      "\u001b[1;31m---------------------------------------------------------------------------\u001b[0m",
      "\u001b[1;31mModuleNotFoundError\u001b[0m                       Traceback (most recent call last)",
      "\u001b[1;32mc:\\Users\\Lenovo\\.conda\\envs\\tf3\\ML_COURSERA\\practice\\linear regression\\my_ml_project\\notebooks\\feature_engineering_prototype.ipynb 儲存格 1\u001b[0m line \u001b[0;36m1\n\u001b[0;32m      <a href='vscode-notebook-cell:/c%3A/Users/Lenovo/.conda/envs/tf3/ML_COURSERA/practice/linear%20regression/my_ml_project/notebooks/feature_engineering_prototype.ipynb#W0sZmlsZQ%3D%3D?line=8'>9</a>\u001b[0m \u001b[39mprint\u001b[39m(data_plotter_path)\n\u001b[0;32m     <a href='vscode-notebook-cell:/c%3A/Users/Lenovo/.conda/envs/tf3/ML_COURSERA/practice/linear%20regression/my_ml_project/notebooks/feature_engineering_prototype.ipynb#W0sZmlsZQ%3D%3D?line=9'>10</a>\u001b[0m sys\u001b[39m.\u001b[39mpath\u001b[39m.\u001b[39mappend(data_plotter_path)\n\u001b[1;32m---> <a href='vscode-notebook-cell:/c%3A/Users/Lenovo/.conda/envs/tf3/ML_COURSERA/practice/linear%20regression/my_ml_project/notebooks/feature_engineering_prototype.ipynb#W0sZmlsZQ%3D%3D?line=11'>12</a>\u001b[0m \u001b[39mfrom\u001b[39;00m \u001b[39mdata_plotter\u001b[39;00m\u001b[39m.\u001b[39;00m\u001b[39mpy\u001b[39;00m \u001b[39mimport\u001b[39;00m DataPlotter\n",
      "\u001b[1;31mModuleNotFoundError\u001b[0m: No module named 'data_plotter'"
     ]
    }
   ],
   "source": [
    "import pandas as pd\n",
    "import os\n",
    "import sys\n",
    "    \n",
    "project_dir = os.path.dirname(os.path.dirname(os.getcwd()))\n",
    "input_path = os.path.join(project_dir, 'data', 'processed', 'cleaned_data.csv')\n",
    "\n",
    "data_plotter_path = os.path.join(project_dir, 'src', 'visualization')\n",
    "print(data_plotter_path)\n",
    "sys.path.append(data_plotter_path)\n",
    "\n",
    "from data_plotter.py import DataPlotter\n"
   ]
  },
  {
   "cell_type": "code",
   "execution_count": null,
   "metadata": {},
   "outputs": [],
   "source": [
    "\n"
   ]
  }
 ],
 "metadata": {
  "kernelspec": {
   "display_name": "TF3",
   "language": "python",
   "name": "python3"
  },
  "language_info": {
   "codemirror_mode": {
    "name": "ipython",
    "version": 3
   },
   "file_extension": ".py",
   "mimetype": "text/x-python",
   "name": "python",
   "nbconvert_exporter": "python",
   "pygments_lexer": "ipython3",
   "version": "3.10.13"
  }
 },
 "nbformat": 4,
 "nbformat_minor": 2
}
