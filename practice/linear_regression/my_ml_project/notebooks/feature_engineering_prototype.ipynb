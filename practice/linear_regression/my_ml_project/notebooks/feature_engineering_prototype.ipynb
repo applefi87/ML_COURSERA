{
 "cells": [
  {
   "cell_type": "code",
   "execution_count": 4,
   "metadata": {},
   "outputs": [],
   "source": [
    "# After turn project into a Package\n",
    "import os\n",
    "import sys\n",
    "    \n",
    "project_dir = os.path.dirname(os.getcwd())\n",
    "input_path = os.path.join(project_dir, 'data', 'processed', 'cleaned_data.csv')\n",
    "\n",
    "data_plotter_path = os.path.join(project_dir, 'src', 'visualization')\n",
    "sys.path.append(data_plotter_path)\n",
    "\n",
    "from data_plotter import DataPlotter\n"
   ]
  },
  {
   "cell_type": "code",
   "execution_count": 2,
   "metadata": {},
   "outputs": [],
   "source": [
    "import pandas as p\n",
    "from src.data import data_collection\n"
   ]
  },
  {
   "cell_type": "code",
   "execution_count": null,
   "metadata": {},
   "outputs": [],
   "source": []
  }
 ],
 "metadata": {
  "kernelspec": {
   "display_name": "TF3",
   "language": "python",
   "name": "python3"
  },
  "language_info": {
   "codemirror_mode": {
    "name": "ipython",
    "version": 3
   },
   "file_extension": ".py",
   "mimetype": "text/x-python",
   "name": "python",
   "nbconvert_exporter": "python",
   "pygments_lexer": "ipython3",
   "version": "3.10.13"
  }
 },
 "nbformat": 4,
 "nbformat_minor": 2
}
